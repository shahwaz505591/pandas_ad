{
 "cells": [
  {
   "cell_type": "markdown",
   "id": "6af4e8cc-579c-49be-8769-09ed6e0a02d1",
   "metadata": {},
   "source": [
    "Q1. List any five functions of the pandas library with execution:\n",
    "\n",
    "\n",
    "    import pandas as pd\n",
    "\n",
    "# 1. Creating a DataFrame\n",
    "data = {'Name': ['Alice', 'Bob', 'Charlie'],\n",
    "        'Age': [25, 30, 35],\n",
    "        'City': ['New York', 'San Francisco', 'Los Angeles']}\n",
    "df = pd.DataFrame(data)\n",
    "\n",
    "# 2. Displaying the first few rows of the DataFrame\n",
    "print(\"Head of the DataFrame:\")\n",
    "print(df.head())\n",
    "\n",
    "# 3. Describing the numerical data in the DataFrame\n",
    "print(\"\\nSummary Statistics:\")\n",
    "print(df.describe())\n",
    "\n",
    "# 4. Selecting specific columns from the DataFrame\n",
    "selected_columns = df[['Name', 'City']]\n",
    "print(\"\\nSelected Columns:\")\n",
    "print(selected_columns)\n",
    "\n",
    "# 5. Sorting the DataFrame based on a column\n",
    "sorted_df = df.sort_values(by='Age', ascending=False)\n",
    "print(\"\\nSorted DataFrame:\")\n",
    "print(sorted_df)\n"
   ]
  },
  {
   "cell_type": "markdown",
   "id": "95286789-771f-4fd9-8f04-6c6ea15bc793",
   "metadata": {},
   "source": [
    "Q2. Python function to re-index the DataFrame:\n",
    "\n",
    "import pandas as pd\n",
    "\n",
    "def reindex_dataframe(df):\n",
    "    new_index = range(1, len(df) * 2 + 1, 2)\n",
    "    df_reindexed = df.set_index(pd.Index(new_index))\n",
    "    return df_reindexed\n",
    "\n",
    "# Example usage:\n",
    "data = {'A': [1, 4, 7], 'B': [2, 5, 8], 'C': [3, 6, 9]}\n",
    "df = pd.DataFrame(data)\n",
    "df_reindexed = reindex_dataframe(df)\n",
    "print(df_reindexed)\n"
   ]
  },
  {
   "cell_type": "markdown",
   "id": "647fbe3d-63c0-4aa7-9e33-4e1e20a29dcf",
   "metadata": {},
   "source": [
    "Q3. Python function to calculate the sum of the first three values:\n",
    "\n",
    "import pandas as pd\n",
    "\n",
    "def sum_of_first_three_values(df):\n",
    "    values_sum = df['Values'].head(3).sum()\n",
    "    print(\"Sum of the first three values:\", values_sum)\n",
    "\n",
    "# Example usage:\n",
    "data = {'Values': [10, 20, 30, 40, 50]}\n",
    "df = pd.DataFrame(data)\n",
    "sum_of_first_three_values(df)\n"
   ]
  },
  {
   "cell_type": "code",
   "execution_count": null,
   "id": "a452423c-830b-47b3-8c10-80746b604f5a",
   "metadata": {},
   "outputs": [],
   "source": [
    "Q4. Python function to create a 'Word_Count' column:\n",
    "\n"
   ]
  }
 ],
 "metadata": {
  "kernelspec": {
   "display_name": "Python 3 (ipykernel)",
   "language": "python",
   "name": "python3"
  },
  "language_info": {
   "codemirror_mode": {
    "name": "ipython",
    "version": 3
   },
   "file_extension": ".py",
   "mimetype": "text/x-python",
   "name": "python",
   "nbconvert_exporter": "python",
   "pygments_lexer": "ipython3",
   "version": "3.10.8"
  }
 },
 "nbformat": 4,
 "nbformat_minor": 5
}
